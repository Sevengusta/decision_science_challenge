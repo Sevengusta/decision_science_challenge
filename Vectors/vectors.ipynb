{
 "cells": [
  {
   "cell_type": "code",
   "execution_count": 3,
   "metadata": {},
   "outputs": [],
   "source": [
    "import pandas as pd\n",
    "import numpy as np"
   ]
  },
  {
   "cell_type": "code",
   "execution_count": 8,
   "metadata": {},
   "outputs": [
    {
     "name": "stdout",
     "output_type": "stream",
     "text": [
      "{0: 10, 1: 43, 2: 65, 3: 29, 4: 12, 5: 54}\n",
      "    0\n",
      "0  10\n",
      "1  43\n",
      "2  65\n",
      "3  29\n",
      "4  12\n",
      "5  54\n"
     ]
    }
   ],
   "source": [
    "c = 0\n",
    "lista = [10, 43, 65, 29, 12, 54]\n",
    "dict = {index: value for index, value in enumerate(lista)}\n",
    "print(dict)\n",
    "df = pd.DataFrame(list(dict.values()))\n",
    "print(df)"
   ]
  }
 ],
 "metadata": {
  "kernelspec": {
   "display_name": "venv",
   "language": "python",
   "name": "python3"
  },
  "language_info": {
   "codemirror_mode": {
    "name": "ipython",
    "version": 3
   },
   "file_extension": ".py",
   "mimetype": "text/x-python",
   "name": "python",
   "nbconvert_exporter": "python",
   "pygments_lexer": "ipython3",
   "version": "3.11.5"
  }
 },
 "nbformat": 4,
 "nbformat_minor": 2
}
